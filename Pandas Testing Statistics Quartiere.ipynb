{
 "cells": [
  {
   "cell_type": "markdown",
   "metadata": {},
   "source": [
    "# Pandas Testing Statistics Quartier"
   ]
  },
  {
   "cell_type": "code",
   "execution_count": 1,
   "metadata": {},
   "outputs": [
    {
     "name": "stdout",
     "output_type": "stream",
     "text": [
      "      StichtagDatJahr  QuarSort    QuarLang  AnzBestWir\n",
      "0                2019        11     Rathaus      3307.0\n",
      "1                2018        11     Rathaus      3267.0\n",
      "2                2017        11     Rathaus      3266.0\n",
      "3                2016        11     Rathaus      3226.0\n",
      "4                2015        11     Rathaus      3197.0\n",
      "...               ...       ...         ...         ...\n",
      "2681             1945       123  Hirzenbach         NaN\n",
      "2682             1944       123  Hirzenbach         NaN\n",
      "2683             1943       123  Hirzenbach         NaN\n",
      "2684             1942       123  Hirzenbach         NaN\n",
      "2685             1941       123  Hirzenbach         NaN\n",
      "\n",
      "[2686 rows x 4 columns]\n",
      "   StichtagDatJahr  QuarSort QuarLang  AnzBestWir\n",
      "0             2019        11  Rathaus      3307.0\n",
      "1             2018        11  Rathaus      3267.0\n",
      "2             2017        11  Rathaus      3266.0\n",
      "3             2016        11  Rathaus      3226.0\n",
      "4             2015        11  Rathaus      3197.0\n",
      "<class 'pandas.core.frame.DataFrame'>\n",
      "RangeIndex: 2686 entries, 0 to 2685\n",
      "Data columns (total 4 columns):\n",
      " #   Column           Non-Null Count  Dtype  \n",
      "---  ------           --------------  -----  \n",
      " 0   StichtagDatJahr  2686 non-null   int64  \n",
      " 1   QuarSort         2686 non-null   int64  \n",
      " 2   QuarLang         2686 non-null   object \n",
      " 3   AnzBestWir       2581 non-null   float64\n",
      "dtypes: float64(1), int64(2), object(1)\n",
      "memory usage: 84.1+ KB\n",
      "None\n",
      "(2686, 4)\n",
      "       StichtagDatJahr     QuarSort    AnzBestWir\n",
      "count      2686.000000  2686.000000   2581.000000\n",
      "mean       1980.000000    64.794118  11546.102286\n",
      "std          22.807755    35.952551   7181.610231\n",
      "min        1941.000000    11.000000    634.000000\n",
      "25%        1960.000000    33.000000   5933.000000\n",
      "50%        1980.000000    67.000000  10373.000000\n",
      "75%        2000.000000    92.000000  16706.000000\n",
      "max        2019.000000   123.000000  34285.000000\n",
      "[[2019 11 'Rathaus' 3307.0]\n",
      " [2018 11 'Rathaus' 3267.0]\n",
      " [2017 11 'Rathaus' 3266.0]\n",
      " ...\n",
      " [1943 123 'Hirzenbach' nan]\n",
      " [1942 123 'Hirzenbach' nan]\n",
      " [1941 123 'Hirzenbach' nan]]\n",
      "Index(['StichtagDatJahr', 'QuarSort', 'QuarLang', 'AnzBestWir'], dtype='object')\n",
      "RangeIndex(start=0, stop=2686, step=1)\n"
     ]
    }
   ],
   "source": [
    "# Load Dataset \"Bevölkerung nach Monat, Stadtquartier, Geschlecht, Altersgruppe und Herkunft, seit 1998\"\n",
    "import pandas as pd\n",
    "bev_city = pd.read_csv(\"https://data.stadt-zuerich.ch/dataset/49719393-620c-49aa-8397-021a23c8de4b/resource/9f9e2f24-96a7-4542-843c-52d44a904110/download/bev324od3240.csv\")\n",
    "print(bev_city)\n",
    "print(bev_city.head())\n",
    "print(bev_city.info())\n",
    "print(bev_city.shape)\n",
    "print(bev_city.describe())\n",
    "print(bev_city.values)\n",
    "print(bev_city.columns)\n",
    "print(bev_city.index)"
   ]
  },
  {
   "cell_type": "code",
   "execution_count": 2,
   "metadata": {},
   "outputs": [
    {
     "name": "stdout",
     "output_type": "stream",
     "text": [
      "      StichtagDatJahr  QuarSort     QuarLang  AnzBestWir\n",
      "1975             2019        92   Altstetten     34285.0\n",
      "1976             2018        92   Altstetten     33461.0\n",
      "1256             1948        61  Unterstrass     33143.0\n",
      "1255             1949        61  Unterstrass     32984.0\n",
      "1253             1951        61  Unterstrass     32883.0\n",
      "...               ...       ...          ...         ...\n",
      "2681             1945       123   Hirzenbach         NaN\n",
      "2682             1944       123   Hirzenbach         NaN\n",
      "2683             1943       123   Hirzenbach         NaN\n",
      "2684             1942       123   Hirzenbach         NaN\n",
      "2685             1941       123   Hirzenbach         NaN\n",
      "\n",
      "[2686 rows x 4 columns]\n",
      "      StichtagDatJahr  QuarSort     QuarLang  AnzBestWir\n",
      "1263             1941        61  Unterstrass     26907.0\n",
      "789              1941        34     Sihlfeld     24222.0\n",
      "2211             1941       102    Wipkingen     21518.0\n",
      "947              1941        42  Langstrasse     19968.0\n",
      "2369             1941       115     Oerlikon     16799.0\n",
      "...               ...       ...          ...         ...\n",
      "790              2019        41         Werd      4455.0\n",
      "0                2019        11      Rathaus      3307.0\n",
      "158              2019        13    Lindenhof      1009.0\n",
      "237              2019        14         City       797.0\n",
      "79               2019        12  Hochschulen       678.0\n",
      "\n",
      "[2686 rows x 4 columns]\n"
     ]
    }
   ],
   "source": [
    "# Sortieren\n",
    "print(bev_city.sort_values(\"AnzBestWir\", ascending=False))\n",
    "# Pro Jahr die grössten Quartiere\n",
    "print(bev_city.sort_values([\"StichtagDatJahr\", \"AnzBestWir\"], ascending=[True, False]))\n"
   ]
  },
  {
   "cell_type": "code",
   "execution_count": 3,
   "metadata": {},
   "outputs": [
    {
     "name": "stdout",
     "output_type": "stream",
     "text": [
      "      QuarSort  StichtagDatJahr  AnzBestWir\n",
      "0           11             2019      3307.0\n",
      "1           11             2018      3267.0\n",
      "2           11             2017      3266.0\n",
      "3           11             2016      3226.0\n",
      "4           11             2015      3197.0\n",
      "...        ...              ...         ...\n",
      "2681       123             1945         NaN\n",
      "2682       123             1944         NaN\n",
      "2683       123             1943         NaN\n",
      "2684       123             1942         NaN\n",
      "2685       123             1941         NaN\n",
      "\n",
      "[2686 rows x 3 columns]\n"
     ]
    }
   ],
   "source": [
    "# Spalten Selektieren\n",
    "print(bev_city[[\"QuarSort\", \"StichtagDatJahr\", \"AnzBestWir\"]])"
   ]
  },
  {
   "cell_type": "code",
   "execution_count": 4,
   "metadata": {},
   "outputs": [
    {
     "name": "stdout",
     "output_type": "stream",
     "text": [
      "      StichtagDatJahr  QuarSort    QuarLang  AnzBestWir\n",
      "0                2019        11     Rathaus      3307.0\n",
      "1                2018        11     Rathaus      3267.0\n",
      "2                2017        11     Rathaus      3266.0\n",
      "3                2016        11     Rathaus      3226.0\n",
      "4                2015        11     Rathaus      3197.0\n",
      "...               ...       ...         ...         ...\n",
      "2607             2019       123  Hirzenbach     13129.0\n",
      "2608             2018       123  Hirzenbach     12801.0\n",
      "2609             2017       123  Hirzenbach     12627.0\n",
      "2610             2016       123  Hirzenbach     12463.0\n",
      "2611             2015       123  Hirzenbach     11930.0\n",
      "\n",
      "[170 rows x 4 columns]\n",
      "     StichtagDatJahr  QuarSort     QuarLang  AnzBestWir\n",
      "316             2019        21  Wollishofen     19225.0\n",
      "317             2018        21  Wollishofen     18923.0\n",
      "318             2017        21  Wollishofen     17892.0\n",
      "319             2016        21  Wollishofen     16567.0\n",
      "320             2015        21  Wollishofen     16244.0\n",
      "..               ...       ...          ...         ...\n",
      "390             1945        21  Wollishofen     14509.0\n",
      "391             1944        21  Wollishofen     14458.0\n",
      "392             1943        21  Wollishofen     14331.0\n",
      "393             1942        21  Wollishofen     14077.0\n",
      "394             1941        21  Wollishofen     13874.0\n",
      "\n",
      "[79 rows x 4 columns]\n",
      "     StichtagDatJahr  QuarSort     QuarLang  AnzBestWir\n",
      "316             2019        21  Wollishofen     19225.0\n",
      "317             2018        21  Wollishofen     18923.0\n",
      "318             2017        21  Wollishofen     17892.0\n",
      "319             2016        21  Wollishofen     16567.0\n",
      "320             2015        21  Wollishofen     16244.0\n"
     ]
    }
   ],
   "source": [
    "# Selektion/Filter Daten ab 2015\n",
    "print(bev_city[bev_city[\"StichtagDatJahr\"] >= 2015])\n",
    "# Nur Wollishofen\n",
    "print(bev_city[bev_city[\"QuarLang\"]==\"Wollishofen\"])\n",
    "# Nur Wollishofen ab 2015\n",
    "print(bev_city[(bev_city[\"QuarLang\"]==\"Wollishofen\") & (bev_city[\"StichtagDatJahr\"] >= 2015)]) "
   ]
  },
  {
   "cell_type": "code",
   "execution_count": 5,
   "metadata": {},
   "outputs": [
    {
     "name": "stdout",
     "output_type": "stream",
     "text": [
      "     StichtagDatJahr  QuarSort QuarLang  AnzBestWir\n",
      "237             2019        14     City       797.0\n",
      "238             2018        14     City       829.0\n",
      "239             2017        14     City       830.0\n",
      "240             2016        14     City       810.0\n",
      "241             2015        14     City       805.0\n",
      "..               ...       ...      ...         ...\n",
      "548             1945        24     Enge     14360.0\n",
      "549             1944        24     Enge     14450.0\n",
      "550             1943        24     Enge     14273.0\n",
      "551             1942        24     Enge     13973.0\n",
      "552             1941        24     Enge     13850.0\n",
      "\n",
      "[237 rows x 4 columns]\n"
     ]
    }
   ],
   "source": [
    "# Filtern mit Liste (IN)\n",
    "print(bev_city[bev_city[\"QuarLang\"].isin([\"Wollishofen\", \"Enge\", \"City\"])])"
   ]
  },
  {
   "cell_type": "code",
   "execution_count": 6,
   "metadata": {},
   "outputs": [
    {
     "name": "stdout",
     "output_type": "stream",
     "text": [
      "11546.102285935684\n"
     ]
    }
   ],
   "source": [
    "# Durchschnittliche Anzahl Bewohner aller Quartiere über alle Jahre\n",
    "print(bev_city[\"AnzBestWir\"].mean())"
   ]
  },
  {
   "cell_type": "code",
   "execution_count": 7,
   "metadata": {},
   "outputs": [
    {
     "name": "stdout",
     "output_type": "stream",
     "text": [
      "1941\n",
      "2019\n"
     ]
    }
   ],
   "source": [
    "print(bev_city[\"StichtagDatJahr\"].min())\n",
    "print(bev_city[\"StichtagDatJahr\"].max())"
   ]
  },
  {
   "cell_type": "code",
   "execution_count": 8,
   "metadata": {},
   "outputs": [
    {
     "name": "stdout",
     "output_type": "stream",
     "text": [
      "      StichtagDatJahr  QuarSort              QuarLang  AnzBestWir\n",
      "0                2019        11               Rathaus      3307.0\n",
      "79               2019        12           Hochschulen       678.0\n",
      "158              2019        13             Lindenhof      1009.0\n",
      "237              2019        14                  City       797.0\n",
      "316              2019        21           Wollishofen     19225.0\n",
      "395              2019        23              Leimbach      6152.0\n",
      "474              2019        24                  Enge      9658.0\n",
      "553              2019        31          Alt-Wiedikon     17874.0\n",
      "632              2019        33           Friesenberg     11107.0\n",
      "711              2019        34              Sihlfeld     22141.0\n",
      "790              2019        41                  Werd      4455.0\n",
      "869              2019        42           Langstrasse     11853.0\n",
      "948              2019        44                  Hard     13060.0\n",
      "1027             2019        51         Gewerbeschule      9562.0\n",
      "1106             2019        52           Escher Wyss      6188.0\n",
      "1185             2019        61           Unterstrass     23971.0\n",
      "1264             2019        63            Oberstrass     10823.0\n",
      "1343             2019        71              Fluntern      8639.0\n",
      "1422             2019        72             Hottingen     11388.0\n",
      "1501             2019        73            Hirslanden      7503.0\n",
      "1580             2019        74               Witikon     11054.0\n",
      "1659             2019        81               Seefeld      5319.0\n",
      "1738             2019        82             Mühlebach      6327.0\n",
      "1817             2019        83               Weinegg      5414.0\n",
      "1896             2019        91           Albisrieden     22352.0\n",
      "1975             2019        92            Altstetten     34285.0\n",
      "2054             2019       101                 Höngg     24358.0\n",
      "2133             2019       102             Wipkingen     16474.0\n",
      "2212             2019       111             Affoltern     26710.0\n",
      "2291             2019       115              Oerlikon     23288.0\n",
      "2370             2019       119               Seebach     25806.0\n",
      "2449             2019       121               Saatlen      8841.0\n",
      "2528             2019       122  Schwamendingen-Mitte     11261.0\n",
      "2607             2019       123            Hirzenbach     13129.0\n"
     ]
    }
   ],
   "source": [
    "# Lösche alle doppelten Einträge - Vorsicht bei nicht ausgewählten Spalten - zufällige Selektion der Inhalte\n",
    "# Mit copy() wird explizit eine Kopie erstellt, sonst könnte es auch eine View sein und \n",
    "# Python gibt eine SettingWithCopyWarning Warnung aus\n",
    "quartiere = bev_city.drop_duplicates(subset=[\"QuarSort\", \"QuarLang\"]).copy()\n",
    "print(quartiere)"
   ]
  },
  {
   "cell_type": "code",
   "execution_count": 9,
   "metadata": {},
   "outputs": [
    {
     "name": "stdout",
     "output_type": "stream",
     "text": [
      "      StichtagDatJahr  QuarSort              QuarLang  AnzBestWir  KreisNum  \\\n",
      "0                2019        11               Rathaus      3307.0         1   \n",
      "79               2019        12           Hochschulen       678.0         1   \n",
      "158              2019        13             Lindenhof      1009.0         1   \n",
      "237              2019        14                  City       797.0         1   \n",
      "316              2019        21           Wollishofen     19225.0         2   \n",
      "395              2019        23              Leimbach      6152.0         2   \n",
      "474              2019        24                  Enge      9658.0         2   \n",
      "553              2019        31          Alt-Wiedikon     17874.0         3   \n",
      "632              2019        33           Friesenberg     11107.0         3   \n",
      "711              2019        34              Sihlfeld     22141.0         3   \n",
      "790              2019        41                  Werd      4455.0         4   \n",
      "869              2019        42           Langstrasse     11853.0         4   \n",
      "948              2019        44                  Hard     13060.0         4   \n",
      "1027             2019        51         Gewerbeschule      9562.0         5   \n",
      "1106             2019        52           Escher Wyss      6188.0         5   \n",
      "1185             2019        61           Unterstrass     23971.0         6   \n",
      "1264             2019        63            Oberstrass     10823.0         6   \n",
      "1343             2019        71              Fluntern      8639.0         7   \n",
      "1422             2019        72             Hottingen     11388.0         7   \n",
      "1501             2019        73            Hirslanden      7503.0         7   \n",
      "1580             2019        74               Witikon     11054.0         7   \n",
      "1659             2019        81               Seefeld      5319.0         8   \n",
      "1738             2019        82             Mühlebach      6327.0         8   \n",
      "1817             2019        83               Weinegg      5414.0         8   \n",
      "1896             2019        91           Albisrieden     22352.0         9   \n",
      "1975             2019        92            Altstetten     34285.0         9   \n",
      "2054             2019       101                 Höngg     24358.0        10   \n",
      "2133             2019       102             Wipkingen     16474.0        10   \n",
      "2212             2019       111             Affoltern     26710.0        11   \n",
      "2291             2019       115              Oerlikon     23288.0        11   \n",
      "2370             2019       119               Seebach     25806.0        11   \n",
      "2449             2019       121               Saatlen      8841.0        12   \n",
      "2528             2019       122  Schwamendingen-Mitte     11261.0        12   \n",
      "2607             2019       123            Hirzenbach     13129.0        12   \n",
      "\n",
      "     KreisName  \n",
      "0      Kreis 1  \n",
      "79     Kreis 1  \n",
      "158    Kreis 1  \n",
      "237    Kreis 1  \n",
      "316    Kreis 2  \n",
      "395    Kreis 2  \n",
      "474    Kreis 2  \n",
      "553    Kreis 3  \n",
      "632    Kreis 3  \n",
      "711    Kreis 3  \n",
      "790    Kreis 4  \n",
      "869    Kreis 4  \n",
      "948    Kreis 4  \n",
      "1027   Kreis 5  \n",
      "1106   Kreis 5  \n",
      "1185   Kreis 6  \n",
      "1264   Kreis 6  \n",
      "1343   Kreis 7  \n",
      "1422   Kreis 7  \n",
      "1501   Kreis 7  \n",
      "1580   Kreis 7  \n",
      "1659   Kreis 8  \n",
      "1738   Kreis 8  \n",
      "1817   Kreis 8  \n",
      "1896   Kreis 9  \n",
      "1975   Kreis 9  \n",
      "2054  Kreis 10  \n",
      "2133  Kreis 10  \n",
      "2212  Kreis 11  \n",
      "2291  Kreis 11  \n",
      "2370  Kreis 11  \n",
      "2449  Kreis 12  \n",
      "2528  Kreis 12  \n",
      "2607  Kreis 12  \n"
     ]
    }
   ],
   "source": [
    "# Neue Spalte mit Kreis-Nummer\n",
    "# // ist eine Floor-Division - rundet das Divisionsresultat auf die nächste ganze Nummer ab\n",
    "quartiere['KreisNum'] = quartiere.QuarSort // 10\n",
    "quartiere[\"KreisName\"] = \"Kreis \" + quartiere[\"KreisNum\"].astype(str) \n",
    "print(quartiere)"
   ]
  },
  {
   "cell_type": "code",
   "execution_count": 10,
   "metadata": {},
   "outputs": [
    {
     "name": "stdout",
     "output_type": "stream",
     "text": [
      "Kreis 1     4\n",
      "Kreis 7     4\n",
      "Kreis 3     3\n",
      "Kreis 12    3\n",
      "Kreis 11    3\n",
      "Kreis 4     3\n",
      "Kreis 2     3\n",
      "Kreis 8     3\n",
      "Kreis 5     2\n",
      "Kreis 10    2\n",
      "Kreis 6     2\n",
      "Kreis 9     2\n",
      "Name: KreisName, dtype: int64\n"
     ]
    }
   ],
   "source": [
    "# Count Anzahl Quartiere pro Kreis\n",
    "print(quartiere[\"KreisName\"].value_counts(sort=True))"
   ]
  },
  {
   "cell_type": "code",
   "execution_count": 11,
   "metadata": {},
   "outputs": [
    {
     "name": "stdout",
     "output_type": "stream",
     "text": [
      "QuarLang\n",
      "Affoltern               16387.949367\n",
      "Albisrieden             16700.265823\n",
      "Alt-Wiedikon            15778.342857\n",
      "Altstetten              25959.037975\n",
      "City                     1801.417722\n",
      "Enge                    10632.291139\n",
      "Escher Wyss              2480.126582\n",
      "Fluntern                 8326.594937\n",
      "Friesenberg             10146.571429\n",
      "Gewerbeschule           10896.683544\n",
      "Hard                    13512.721519\n",
      "Hirslanden               8520.544304\n",
      "Hirzenbach              11682.900000\n",
      "Hochschulen              1379.113924\n",
      "Hottingen               12680.898734\n",
      "Höngg                   16925.987342\n",
      "Langstrasse             14059.531646\n",
      "Leimbach                 4010.392405\n",
      "Lindenhof                1833.746835\n",
      "Mühlebach                6930.113924\n",
      "Oberstrass              12021.000000\n",
      "Oerlikon                19077.012658\n",
      "Rathaus                  4828.974684\n",
      "Saatlen                  6931.880000\n",
      "Schwamendingen-Mitte    10812.740000\n",
      "Seebach                 17765.075949\n",
      "Seefeld                  7164.835443\n",
      "Sihlfeld                23647.936709\n",
      "Unterstrass             24863.911392\n",
      "Weinegg                  5763.240506\n",
      "Werd                     5006.772152\n",
      "Wipkingen               18126.367089\n",
      "Witikon                  7398.822785\n",
      "Wollishofen             16923.569620\n",
      "Name: AnzBestWir, dtype: float64\n",
      "QuarLang\n",
      "Affoltern               26710.0\n",
      "Albisrieden             22352.0\n",
      "Alt-Wiedikon            18507.0\n",
      "Altstetten              34285.0\n",
      "City                     4754.0\n",
      "Enge                    14697.0\n",
      "Escher Wyss              6188.0\n",
      "Fluntern                 9996.0\n",
      "Friesenberg             11430.0\n",
      "Gewerbeschule           14226.0\n",
      "Hard                    16183.0\n",
      "Hirslanden              11605.0\n",
      "Hirzenbach              13723.0\n",
      "Hochschulen              2893.0\n",
      "Hottingen               16824.0\n",
      "Höngg                   24358.0\n",
      "Langstrasse             20275.0\n",
      "Leimbach                 6320.0\n",
      "Lindenhof                3693.0\n",
      "Mühlebach                9295.0\n",
      "Oberstrass              15702.0\n",
      "Oerlikon                23288.0\n",
      "Rathaus                  9018.0\n",
      "Saatlen                  8841.0\n",
      "Schwamendingen-Mitte    12849.0\n",
      "Seebach                 25817.0\n",
      "Seefeld                 11132.0\n",
      "Sihlfeld                29163.0\n",
      "Unterstrass             33143.0\n",
      "Weinegg                  6988.0\n",
      "Werd                     7681.0\n",
      "Wipkingen               22481.0\n",
      "Witikon                 11054.0\n",
      "Wollishofen             19790.0\n",
      "Name: AnzBestWir, dtype: float64\n",
      "                              mean      min      max\n",
      "QuarLang                                            \n",
      "Affoltern             16387.949367   3347.0  26710.0\n",
      "Albisrieden           16700.265823   5952.0  22352.0\n",
      "Alt-Wiedikon          15778.342857  13160.0  18507.0\n",
      "Altstetten            25959.037975  13651.0  34285.0\n",
      "City                   1801.417722    744.0   4754.0\n",
      "Enge                  10632.291139   7956.0  14697.0\n",
      "Escher Wyss            2480.126582   1460.0   6188.0\n",
      "Fluntern               8326.594937   6817.0   9996.0\n",
      "Friesenberg           10146.571429   8086.0  11430.0\n",
      "Gewerbeschule         10896.683544   8948.0  14226.0\n",
      "Hard                  13512.721519  11654.0  16183.0\n",
      "Hirslanden             8520.544304   6654.0  11605.0\n",
      "Hirzenbach            11682.900000  10802.0  13723.0\n",
      "Hochschulen            1379.113924    634.0   2893.0\n",
      "Hottingen             12680.898734   9926.0  16824.0\n",
      "Höngg                 16925.987342   7276.0  24358.0\n",
      "Langstrasse           14059.531646  10237.0  20275.0\n",
      "Leimbach               4010.392405   1177.0   6320.0\n",
      "Lindenhof              1833.746835    916.0   3693.0\n",
      "Mühlebach              6930.113924   5434.0   9295.0\n",
      "Oberstrass            12021.000000   9494.0  15702.0\n",
      "Oerlikon              19077.012658  16180.0  23288.0\n",
      "Rathaus                4828.974684   3049.0   9018.0\n",
      "Saatlen                6931.880000   6338.0   8841.0\n",
      "Schwamendingen-Mitte  10812.740000  10116.0  12849.0\n",
      "Seebach               17765.075949   7248.0  25817.0\n",
      "Seefeld                7164.835443   4732.0  11132.0\n",
      "Sihlfeld              23647.936709  20115.0  29163.0\n",
      "Unterstrass           24863.911392  19742.0  33143.0\n",
      "Weinegg                5763.240506   4747.0   6988.0\n",
      "Werd                   5006.772152   3740.0   7681.0\n",
      "Wipkingen             18126.367089  15392.0  22481.0\n",
      "Witikon                7398.822785   1103.0  11054.0\n",
      "Wollishofen           16923.569620  13874.0  19790.0\n"
     ]
    }
   ],
   "source": [
    "# GroupBy: Wie ist die durchschnittliche Bevölkerung der letzten 60 Jahre pro Quartier\n",
    "print(bev_city.groupby(\"QuarLang\")[\"AnzBestWir\"].mean())\n",
    "# GroupBy: Was war die grösste Bevölkerung pro Quartier der letzten 60 Jahre\n",
    "print(bev_city.groupby(\"QuarLang\")[\"AnzBestWir\"].max())\n",
    "# Drei Statistiken mit einem Befehl:\n",
    "print(bev_city.groupby(\"QuarLang\")[\"AnzBestWir\"].agg([\"mean\", \"min\", \"max\"]))"
   ]
  },
  {
   "cell_type": "code",
   "execution_count": 12,
   "metadata": {},
   "outputs": [
    {
     "name": "stdout",
     "output_type": "stream",
     "text": [
      "                                        mean      min      max\n",
      "KreisName QuarLang                                            \n",
      "Kreis 1   City                   1801.417722    744.0   4754.0\n",
      "          Hochschulen            1379.113924    634.0   2893.0\n",
      "          Lindenhof              1833.746835    916.0   3693.0\n",
      "          Rathaus                4828.974684   3049.0   9018.0\n",
      "Kreis 10  Höngg                 16925.987342   7276.0  24358.0\n",
      "          Wipkingen             18126.367089  15392.0  22481.0\n",
      "Kreis 11  Affoltern             16387.949367   3347.0  26710.0\n",
      "          Oerlikon              19077.012658  16180.0  23288.0\n",
      "          Seebach               17765.075949   7248.0  25817.0\n",
      "Kreis 12  Hirzenbach            11682.900000  10802.0  13723.0\n",
      "          Saatlen                6931.880000   6338.0   8841.0\n",
      "          Schwamendingen-Mitte  10812.740000  10116.0  12849.0\n",
      "Kreis 2   Enge                  10632.291139   7956.0  14697.0\n",
      "          Leimbach               4010.392405   1177.0   6320.0\n",
      "          Wollishofen           16923.569620  13874.0  19790.0\n",
      "Kreis 3   Alt-Wiedikon          15778.342857  13160.0  18507.0\n",
      "          Friesenberg           10146.571429   8086.0  11430.0\n",
      "          Sihlfeld              23647.936709  20115.0  29163.0\n",
      "Kreis 4   Hard                  13512.721519  11654.0  16183.0\n",
      "          Langstrasse           14059.531646  10237.0  20275.0\n",
      "          Werd                   5006.772152   3740.0   7681.0\n",
      "Kreis 5   Escher Wyss            2480.126582   1460.0   6188.0\n",
      "          Gewerbeschule         10896.683544   8948.0  14226.0\n",
      "Kreis 6   Oberstrass            12021.000000   9494.0  15702.0\n",
      "          Unterstrass           24863.911392  19742.0  33143.0\n",
      "Kreis 7   Fluntern               8326.594937   6817.0   9996.0\n",
      "          Hirslanden             8520.544304   6654.0  11605.0\n",
      "          Hottingen             12680.898734   9926.0  16824.0\n",
      "          Witikon                7398.822785   1103.0  11054.0\n",
      "Kreis 8   Mühlebach              6930.113924   5434.0   9295.0\n",
      "          Seefeld                7164.835443   4732.0  11132.0\n",
      "          Weinegg                5763.240506   4747.0   6988.0\n",
      "Kreis 9   Albisrieden           16700.265823   5952.0  22352.0\n",
      "          Altstetten            25959.037975  13651.0  34285.0\n"
     ]
    }
   ],
   "source": [
    "quarkreis = bev_city.copy()\n",
    "quarkreis['KreisNum'] = quarkreis.QuarSort // 10\n",
    "quarkreis[\"KreisName\"] = \"Kreis \" + quarkreis[\"KreisNum\"].astype(str) \n",
    "print(quarkreis.groupby([\"KreisName\", \"QuarLang\"])[\"AnzBestWir\"].agg([\"mean\", \"min\", \"max\"]))"
   ]
  },
  {
   "cell_type": "code",
   "execution_count": 14,
   "metadata": {},
   "outputs": [
    {
     "name": "stdout",
     "output_type": "stream",
     "text": [
      "                                        mean     amin     amax\n",
      "KreisName QuarLang                                            \n",
      "Kreis 1   City                   1801.417722    744.0   4754.0\n",
      "          Hochschulen            1379.113924    634.0   2893.0\n",
      "          Lindenhof              1833.746835    916.0   3693.0\n",
      "          Rathaus                4828.974684   3049.0   9018.0\n",
      "Kreis 10  Höngg                 16925.987342   7276.0  24358.0\n",
      "          Wipkingen             18126.367089  15392.0  22481.0\n",
      "Kreis 11  Affoltern             16387.949367   3347.0  26710.0\n",
      "          Oerlikon              19077.012658  16180.0  23288.0\n",
      "          Seebach               17765.075949   7248.0  25817.0\n",
      "Kreis 12  Hirzenbach            11682.900000  10802.0  13723.0\n",
      "          Saatlen                6931.880000   6338.0   8841.0\n",
      "          Schwamendingen-Mitte  10812.740000  10116.0  12849.0\n",
      "Kreis 2   Enge                  10632.291139   7956.0  14697.0\n",
      "          Leimbach               4010.392405   1177.0   6320.0\n",
      "          Wollishofen           16923.569620  13874.0  19790.0\n",
      "Kreis 3   Alt-Wiedikon          15778.342857  13160.0  18507.0\n",
      "          Friesenberg           10146.571429   8086.0  11430.0\n",
      "          Sihlfeld              23647.936709  20115.0  29163.0\n",
      "Kreis 4   Hard                  13512.721519  11654.0  16183.0\n",
      "          Langstrasse           14059.531646  10237.0  20275.0\n",
      "          Werd                   5006.772152   3740.0   7681.0\n",
      "Kreis 5   Escher Wyss            2480.126582   1460.0   6188.0\n",
      "          Gewerbeschule         10896.683544   8948.0  14226.0\n",
      "Kreis 6   Oberstrass            12021.000000   9494.0  15702.0\n",
      "          Unterstrass           24863.911392  19742.0  33143.0\n",
      "Kreis 7   Fluntern               8326.594937   6817.0   9996.0\n",
      "          Hirslanden             8520.544304   6654.0  11605.0\n",
      "          Hottingen             12680.898734   9926.0  16824.0\n",
      "          Witikon                7398.822785   1103.0  11054.0\n",
      "Kreis 8   Mühlebach              6930.113924   5434.0   9295.0\n",
      "          Seefeld                7164.835443   4732.0  11132.0\n",
      "          Weinegg                5763.240506   4747.0   6988.0\n",
      "Kreis 9   Albisrieden           16700.265823   5952.0  22352.0\n",
      "          Altstetten            25959.037975  13651.0  34285.0\n"
     ]
    }
   ],
   "source": [
    "# Alternative with numpy statistics\n",
    "import numpy as np\n",
    "print(quarkreis.groupby([\"KreisName\", \"QuarLang\"])[\"AnzBestWir\"].agg([np.mean, np.min, np.max]))"
   ]
  },
  {
   "cell_type": "code",
   "execution_count": null,
   "metadata": {},
   "outputs": [],
   "source": []
  }
 ],
 "metadata": {
  "kernelspec": {
   "display_name": "Python 3",
   "language": "python",
   "name": "python3"
  },
  "language_info": {
   "codemirror_mode": {
    "name": "ipython",
    "version": 3
   },
   "file_extension": ".py",
   "mimetype": "text/x-python",
   "name": "python",
   "nbconvert_exporter": "python",
   "pygments_lexer": "ipython3",
   "version": "3.7.6"
  }
 },
 "nbformat": 4,
 "nbformat_minor": 4
}
