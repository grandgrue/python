{
 "cells": [
  {
   "cell_type": "markdown",
   "metadata": {},
   "source": [
    "# Pandas Tests\n",
    "## Read Table"
   ]
  },
  {
   "cell_type": "code",
   "execution_count": 1,
   "metadata": {},
   "outputs": [
    {
     "name": "stdout",
     "output_type": "stream",
     "text": [
      "      StichtagDatJahr  QuarSort    QuarLang  AnzBestWir\n",
      "0                2019        11     Rathaus      3307.0\n",
      "1                2018        11     Rathaus      3267.0\n",
      "2                2017        11     Rathaus      3266.0\n",
      "3                2016        11     Rathaus      3226.0\n",
      "4                2015        11     Rathaus      3197.0\n",
      "...               ...       ...         ...         ...\n",
      "2681             1945       123  Hirzenbach         NaN\n",
      "2682             1944       123  Hirzenbach         NaN\n",
      "2683             1943       123  Hirzenbach         NaN\n",
      "2684             1942       123  Hirzenbach         NaN\n",
      "2685             1941       123  Hirzenbach         NaN\n",
      "\n",
      "[2686 rows x 4 columns]\n"
     ]
    }
   ],
   "source": [
    "import pandas as pd\n",
    "bev_city = pd.read_csv(\"bev324od3240.csv\")\n",
    "print(bev_city)"
   ]
  },
  {
   "cell_type": "markdown",
   "metadata": {},
   "source": [
    "## Filter table"
   ]
  },
  {
   "cell_type": "code",
   "execution_count": 2,
   "metadata": {},
   "outputs": [
    {
     "name": "stdout",
     "output_type": "stream",
     "text": [
      "0        11\n",
      "1        11\n",
      "2        11\n",
      "3        11\n",
      "4        11\n",
      "       ... \n",
      "2681    123\n",
      "2682    123\n",
      "2683    123\n",
      "2684    123\n",
      "2685    123\n",
      "Name: QuarSort, Length: 2686, dtype: int64\n",
      "0       False\n",
      "1       False\n",
      "2       False\n",
      "3       False\n",
      "4       False\n",
      "        ...  \n",
      "2681    False\n",
      "2682    False\n",
      "2683    False\n",
      "2684    False\n",
      "2685    False\n",
      "Name: QuarSort, Length: 2686, dtype: bool\n",
      "     StichtagDatJahr  QuarSort QuarLang  AnzBestWir\n",
      "237             2019        14     City       797.0\n",
      "238             2018        14     City       829.0\n",
      "239             2017        14     City       830.0\n",
      "240             2016        14     City       810.0\n",
      "241             2015        14     City       805.0\n",
      "..               ...       ...      ...         ...\n",
      "311             1945        14     City      4439.0\n",
      "312             1944        14     City      4737.0\n",
      "313             1943        14     City      4754.0\n",
      "314             1942        14     City      4651.0\n",
      "315             1941        14     City      4462.0\n",
      "\n",
      "[79 rows x 4 columns]\n",
      "      StichtagDatJahr  QuarSort   QuarLang  AnzBestWir\n",
      "2212             2019       111  Affoltern     26710.0\n",
      "2213             2018       111  Affoltern     26562.0\n",
      "2214             2017       111  Affoltern     26177.0\n",
      "2215             2016       111  Affoltern     26054.0\n",
      "2216             2015       111  Affoltern     25874.0\n",
      "...               ...       ...        ...         ...\n",
      "2286             1945       111  Affoltern      3976.0\n",
      "2287             1944       111  Affoltern      3542.0\n",
      "2288             1943       111  Affoltern      3386.0\n",
      "2289             1942       111  Affoltern      3379.0\n",
      "2290             1941       111  Affoltern      3347.0\n",
      "\n",
      "[79 rows x 4 columns]\n"
     ]
    }
   ],
   "source": [
    "myquarter1 = 14 # 14 = City\n",
    "myquarter2 = 111 # 111 = Affoltern\n",
    "\n",
    "# Get the Filter Colum as Series\n",
    "col_qsort = bev_city[\"QuarSort\"]\n",
    "print(col_qsort)\n",
    "# Create a Filter Series\n",
    "is_quar = bev_city[\"QuarSort\"] == myquarter1\n",
    "print(is_quar)\n",
    "# Apply the Filter to the Source Array\n",
    "bev_quar1 = bev_city[is_quar]\n",
    "print(bev_quar1)\n",
    "# Filter in one line\n",
    "bev_quar2 = bev_city[bev_city[\"QuarSort\"] == myquarter2]\n",
    "print(bev_quar2)"
   ]
  },
  {
   "cell_type": "code",
   "execution_count": 3,
   "metadata": {},
   "outputs": [
    {
     "name": "stdout",
     "output_type": "stream",
     "text": [
      "      StichtagDatJahr  QuarSort   QuarLang  AnzBestWir\n",
      "2212             2019       111  Affoltern     26710.0\n",
      "2213             2018       111  Affoltern     26562.0\n",
      "2214             2017       111  Affoltern     26177.0\n",
      "2215             2016       111  Affoltern     26054.0\n",
      "2216             2015       111  Affoltern     25874.0\n",
      "...               ...       ...        ...         ...\n",
      "2286             1945       111  Affoltern      3976.0\n",
      "2287             1944       111  Affoltern      3542.0\n",
      "2288             1943       111  Affoltern      3386.0\n",
      "2289             1942       111  Affoltern      3379.0\n",
      "2290             1941       111  Affoltern      3347.0\n",
      "\n",
      "[79 rows x 4 columns]\n",
      "Affoltern\n"
     ]
    }
   ],
   "source": [
    "print(bev_quar2)\n",
    "#Get value of crossing of first row and third column = First occurance of QuarLang = Label of the Quarter\n",
    "print(bev_quar2.iloc[0, 2])"
   ]
  },
  {
   "cell_type": "code",
   "execution_count": 4,
   "metadata": {},
   "outputs": [
    {
     "data": {
      "image/png": "[encoded data removed]",
      "text/plain": [
       "<Figure size 432x288 with 1 Axes>"
      ]
     },
     "metadata": {
      "needs_background": "light"
     },
     "output_type": "display_data"
    }
   ],
   "source": [
    "import matplotlib.pyplot as plt\n",
    "plt.plot(bev_quar1[\"StichtagDatJahr\"], bev_quar1[\"AnzBestWir\"], 'g', label=bev_quar1.iloc[0, 2])\n",
    "plt.plot(bev_quar2[\"StichtagDatJahr\"], bev_quar2[\"AnzBestWir\"], 'b', label=bev_quar2.iloc[0, 2])\n",
    "plt.yticks([0,10000,20000,30000],\n",
    "          [\"0\", \"10 000\", \"20 000\", \"30 000\"])\n",
    "plt.xlabel(\"Jahr\")\n",
    "plt.ylabel(\"Wirtschaftliche Wohnbevölkerung\")\n",
    "plt.title(\"Quartiervergleich Wohnbevölkerung\")\n",
    "plt.legend()\n",
    "plt.show()"
   ]
  }
 ],
 "metadata": {
  "kernelspec": {
   "display_name": "Python 3",
   "language": "python",
   "name": "python3"
  },
  "language_info": {
   "codemirror_mode": {
    "name": "ipython",
    "version": 3
   },
   "file_extension": ".py",
   "mimetype": "text/x-python",
   "name": "python",
   "nbconvert_exporter": "python",
   "pygments_lexer": "ipython3",
   "version": "3.7.6"
  }
 },
 "nbformat": 4,
 "nbformat_minor": 4
}
